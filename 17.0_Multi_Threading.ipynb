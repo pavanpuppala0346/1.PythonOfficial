{
 "cells": [
  {
   "cell_type": "markdown",
   "metadata": {},
   "source": [
    "#### Multi Tasking:Executing several tasks simultaneously is the concept of multitasking.\n",
    "\n",
    "There are 2 types of Multi Tasking\n",
    "\n",
    "<b><u>1. Process based Multi Tasking:</u></b> Executing several tasks simmultaneously where each task is a seperate independent process is called process based multi tasking.\n",
    "\n",
    "Eg: while typing python program in the editor we can listen mp3 audio songs from the same\n",
    "system. At the same time we can download a file from the internet. All these taks are executing\n",
    "simultaneously and independent of each other. Hence it is process based multi tasking.\n",
    "\n",
    "<u>This type of multi tasking is best suitable at operating system level.</u>\n",
    "\n",
    "<b><u>2. Thread based MultiTasking:</u></b> Executing several tasks simultaneously where each task is a seperate independent part of the same program, is called Thread based multi tasking, and each independent part is called a Thread.\n",
    "\n",
    "<u>This type of multi tasking is best suitable at programmatic level.</u>\n",
    "\n",
    "Note: Whether it is process based or thread based, the main advantage of multi tasking is to\n",
    "improve performance of the system by reducing response time.\n",
    "\n",
    "The main important application areas of multi threading are:\n",
    "1. To implement Multimedia graphics\n",
    "2. To develop animations\n",
    "3. To develop video games\n",
    "4. To develop web and application servers\n",
    "etc...\n",
    "\n",
    "Note: Where ever a group of independent jobs are available, then it is highly recommended to\n",
    "execute simultaneously instead of executing one by one.For such type of cases we should go for\n",
    "Multi Threading."
   ]
  },
  {
   "cell_type": "markdown",
   "metadata": {},
   "source": [
    "Python provides one inbuilt module \"threading\" to provide support for developing threads. Hence\n",
    "developing multi threaded Programs is very easy in python.\n",
    "\n",
    "Every Python Program by default contains one thread which is nothing but MainThread.\n",
    "\n",
    "#### Q.Program to print name of current executing thread:"
   ]
  },
  {
   "cell_type": "code",
   "execution_count": 2,
   "metadata": {},
   "outputs": [
    {
     "name": "stdout",
     "output_type": "stream",
     "text": [
      "Current Execution Thread: MainThread\n"
     ]
    }
   ],
   "source": [
    "import threading\n",
    "\n",
    "print(\"Current Execution Thread:\", threading.current_thread().getName())"
   ]
  },
  {
   "cell_type": "markdown",
   "metadata": {},
   "source": [
    "Note: threading module contains function current_thread() which returns the current executing Thread object. On this object if we call getName() method then we will get current executing\n",
    "thread name.\n",
    "\n",
    "<b><u>The ways of Creating Thread in Python:</u></b>\n",
    "We can create a thread in Python by using 3 ways\n",
    "    1. Creating a Thread without using any class\n",
    "    2. Creating a Thread by extending Thread class\n",
    "    3. Creating a Thread without extending Thread class"
   ]
  },
  {
   "cell_type": "code",
   "execution_count": 28,
   "metadata": {},
   "outputs": [
    {
     "name": "stdout",
     "output_type": "stream",
     "text": [
      "This code executed by Thread: MainThread\n",
      "This code executed by Thread:This code executed by Thread: MainThread\n",
      " Thread-22\n"
     ]
    }
   ],
   "source": [
    "from threading import *\n",
    "\n",
    "def display():\n",
    "    print(\"This code executed by Thread:\", current_thread().getName())\n",
    "    \n",
    "print(\"This code executed by Thread:\", current_thread().getName())\n",
    "t = Thread(target=display)\n",
    "t.start()\n",
    "print(\"This code executed by Thread:\", current_thread().getName())"
   ]
  },
  {
   "cell_type": "markdown",
   "metadata": {},
   "source": [
    "main thread creates child thread object.child thread object is responsible to execute display method\n",
    "\n"
   ]
  },
  {
   "cell_type": "markdown",
   "metadata": {},
   "source": [
    "<b><u>1. Creating a Thread without using any class:</u></b>"
   ]
  },
  {
   "cell_type": "code",
   "execution_count": 35,
   "metadata": {},
   "outputs": [
    {
     "name": "stdout",
     "output_type": "stream",
     "text": [
      "Child ThreadMain Thread\n",
      "Main Thread\n",
      "Main Thread\n",
      "Main Thread\n",
      "Main Thread\n",
      "Main Thread\n",
      "Main Thread\n",
      "Main Thread\n",
      "Main Thread\n",
      "Main Thread\n",
      "\n",
      "Child Thread\n",
      "Child Thread\n",
      "Child Thread\n",
      "Child Thread\n",
      "Child Thread\n",
      "Child Thread\n",
      "Child Thread\n",
      "Child Thread\n",
      "Child Thread\n"
     ]
    }
   ],
   "source": [
    "from threading import *\n",
    "\n",
    "def display():\n",
    "    for i in range(1,11):\n",
    "        print(\"Child Thread\")\n",
    "\n",
    "#creating thread object\n",
    "t = Thread(target=display)\n",
    "t.start()\n",
    "\n",
    "for i in range(1,11):\n",
    "    print(\"Main Thread\")"
   ]
  },
  {
   "cell_type": "markdown",
   "metadata": {},
   "source": [
    "If multiple threads present in our program, then we cannot expect execution order and hence we\n",
    "cannot expect exact output for the multi threaded programs. B'z of this we cannot provide exact\n",
    "output for the above program.It is varied from machine to machine and run to run.\n",
    "\n",
    "Note: Thread is a pre defined class present in threading module which can be used to create our\n",
    "own Threads.\n",
    "\n",
    "<b><u>2. Creating a Thread by extending Thread class</u></b>\n",
    "\n",
    "We have to create child class for Thread class. In that child class we have to override run() method\n",
    "with our required job. Whenever we call start() method then automatically run() method will be\n",
    "executed and performs our job."
   ]
  },
  {
   "cell_type": "code",
   "execution_count": 12,
   "metadata": {},
   "outputs": [
    {
     "name": "stdout",
     "output_type": "stream",
     "text": [
      "Child ThreadMain Thread\n",
      "Child Thread\n",
      "Main Thread\n",
      "Main Thread\n",
      "Main Thread\n",
      "Main Thread\n",
      "Main Thread\n",
      "Main Thread\n",
      "Main Thread\n",
      "Main Thread\n",
      "Main Thread\n",
      "\n",
      "Child Thread\n",
      "Child Thread\n",
      "Child Thread\n",
      "Child Thread\n",
      "Child Thread\n",
      "Child Thread\n",
      "Child Thread\n",
      "Child Thread\n"
     ]
    }
   ],
   "source": [
    "from threading import *\n",
    "\n",
    "class MyThread(Thread):\n",
    "    def run(self):\n",
    "        for i in range(10):\n",
    "            print(\"Child Thread\")\n",
    "            \n",
    "t = MyThread()\n",
    "t.start()\n",
    "\n",
    "for i in range(10):\n",
    "    print(\"Main Thread\")"
   ]
  },
  {
   "cell_type": "markdown",
   "metadata": {},
   "source": [
    "<b><u>3. Creating a Thread without extending Thread class:</u></b>"
   ]
  },
  {
   "cell_type": "code",
   "execution_count": 19,
   "metadata": {},
   "outputs": [
    {
     "name": "stdout",
     "output_type": "stream",
     "text": [
      "Child Thread\n",
      "Child Thread\n",
      "Child Thread\n",
      "Child Thread\n",
      "Child Thread\n",
      "Child Thread\n",
      "Child Thread\n",
      "Child Thread\n",
      "Child Thread\n",
      "Child Thread\n",
      "Main Thread\n",
      "Main Thread\n",
      "Main Thread\n",
      "Main Thread\n",
      "Main Thread\n",
      "Main Thread\n",
      "Main Thread\n",
      "Main Thread\n",
      "Main Thread\n",
      "Main Thread\n"
     ]
    }
   ],
   "source": [
    "from threading import *\n",
    "\n",
    "class Test:\n",
    "    def display(self):\n",
    "        for i in range(10):\n",
    "            print(\"Child Thread\")\n",
    "            \n",
    "obj = Test()\n",
    "t = Thread(target=obj.display())\n",
    "t.run()\n",
    "\n",
    "for i in range(10):\n",
    "    print(\"Main Thread\")"
   ]
  },
  {
   "cell_type": "markdown",
   "metadata": {},
   "source": [
    "#### Without multi threading:"
   ]
  },
  {
   "cell_type": "code",
   "execution_count": 2,
   "metadata": {},
   "outputs": [
    {
     "name": "stdout",
     "output_type": "stream",
     "text": [
      "Double: 2\n",
      "Double: 4\n",
      "Double: 6\n",
      "Double: 8\n",
      "Double: 10\n",
      "Double: 12\n",
      "Square: 1\n",
      "Square: 4\n",
      "Square: 9\n",
      "Square: 16\n",
      "Square: 25\n",
      "Square: 36\n",
      "time taken to execute:12.142269849777222\n"
     ]
    }
   ],
   "source": [
    "import time\n",
    "\n",
    "def doubles(numbers):\n",
    "    for n in numbers:\n",
    "        time.sleep(1)\n",
    "        print(\"Double:\", 2*n)\n",
    "        \n",
    "def squares(numbers):\n",
    "    for n in numbers:\n",
    "        time.sleep(1)\n",
    "        print(\"Square:\",n*n)\n",
    "\n",
    "numbers = [1,2,3,4,5,6]\n",
    "start_time = time.time()\n",
    "doubles(numbers)\n",
    "squares(numbers)\n",
    "end_time = time.time()\n",
    "print(f\"time taken to execute:{end_time-start_time}\")"
   ]
  },
  {
   "cell_type": "code",
   "execution_count": 17,
   "metadata": {},
   "outputs": [
    {
     "name": "stdout",
     "output_type": "stream",
     "text": [
      "(1, 2)\n",
      "(4, 4)\n",
      "(9, 6)\n",
      "(16, 8)\n",
      "(25, 10)\n",
      "(36, 12)\n"
     ]
    }
   ],
   "source": [
    "from concurrent.futures import ThreadPoolExecutor\n",
    "\n",
    "result_rows = []\n",
    "def squares(n):\n",
    "    time.sleep(1)\n",
    "    return n*n, 2*n\n",
    "        \n",
    "numbers = [1,2,3,4,5,6]\n",
    "\n",
    "with ThreadPoolExecutor() as executor:\n",
    "    futures = executor.map(squares, numbers)\n",
    "for future in futures:\n",
    "    print(future)\n",
    "        #result_rows.extend(future.result())"
   ]
  },
  {
   "cell_type": "code",
   "execution_count": 23,
   "metadata": {},
   "outputs": [
    {
     "name": "stdout",
     "output_type": "stream",
     "text": [
      "Thread 0 startedThread 1 started\n",
      "\n",
      "Thread 2 started\n",
      "Thread 1 ended\n",
      "Thread 3 started\n",
      "Thread 2 endedThread 0 ended\n",
      "\n",
      "Thread 3 ended\n"
     ]
    }
   ],
   "source": [
    "import time\n",
    "from concurrent.futures import ThreadPoolExecutor\n",
    "\n",
    "def myFunction(n):\n",
    "    print(\"Thread {0} started\".format(n))\n",
    "    time.sleep(2)\n",
    "    print(\"Thread {0} ended\".format(n))\n",
    "    \n",
    "with ThreadPoolExecutor(max_workers=3) as executor:\n",
    "    executor.map(myFunction, range(4))"
   ]
  },
  {
   "cell_type": "code",
   "execution_count": 32,
   "metadata": {},
   "outputs": [
    {
     "name": "stdout",
     "output_type": "stream",
     "text": [
      "Thread 1 started\n",
      "Thread 2 started\n",
      "Thread 3 started\n",
      "Thread 1 endedThread 2 ended\n",
      "Thread 4 started\n",
      "\n",
      "Thread 5 started\n",
      "Thread 3 ended\n",
      "Thread 6 started\n",
      "Thread 5 endedThread 4 ended\n",
      "\n",
      "Thread 6 ended\n"
     ]
    }
   ],
   "source": [
    "import time\n",
    "from concurrent.futures import ThreadPoolExecutor\n",
    "\n",
    "def myFunction(n):\n",
    "    print(\"Thread {0} started\".format(n))\n",
    "    time.sleep(2)\n",
    "    print(\"Thread {0} ended\".format(n))\n",
    "    \n",
    "with ThreadPoolExecutor(max_workers=3) as executor:\n",
    "    futures = [executor.submit(myFunction, n) for n in [1,2,3,4,5,6]]\n",
    "#     for future in futures:\n",
    "#         print(future.result())"
   ]
  },
  {
   "cell_type": "code",
   "execution_count": null,
   "metadata": {},
   "outputs": [],
   "source": []
  }
 ],
 "metadata": {
  "kernelspec": {
   "display_name": "Python 3",
   "language": "python",
   "name": "python3"
  },
  "language_info": {
   "codemirror_mode": {
    "name": "ipython",
    "version": 3
   },
   "file_extension": ".py",
   "mimetype": "text/x-python",
   "name": "python",
   "nbconvert_exporter": "python",
   "pygments_lexer": "ipython3",
   "version": "3.6.5"
  }
 },
 "nbformat": 4,
 "nbformat_minor": 2
}
