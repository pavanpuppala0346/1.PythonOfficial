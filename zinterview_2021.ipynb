{
 "cells": [
  {
   "cell_type": "markdown",
   "metadata": {},
   "source": [
    "### How to reverse a string in one line?"
   ]
  },
  {
   "cell_type": "code",
   "execution_count": 1,
   "metadata": {},
   "outputs": [
    {
     "data": {
      "text/plain": [
       "'navap'"
      ]
     },
     "execution_count": 1,
     "metadata": {},
     "output_type": "execute_result"
    }
   ],
   "source": [
    "s=\"pavan\"\n",
    "s[::-1]"
   ]
  },
  {
   "cell_type": "code",
   "execution_count": 2,
   "metadata": {},
   "outputs": [
    {
     "data": {
      "text/plain": [
       "'nvp'"
      ]
     },
     "execution_count": 2,
     "metadata": {},
     "output_type": "execute_result"
    }
   ],
   "source": [
    "s[::-2]"
   ]
  },
  {
   "cell_type": "markdown",
   "metadata": {},
   "source": [
    "### How to get the inserted order in dict"
   ]
  },
  {
   "cell_type": "code",
   "execution_count": 1,
   "metadata": {},
   "outputs": [
    {
     "name": "stdout",
     "output_type": "stream",
     "text": [
      "b -- 2\n",
      "a -- 1\n",
      "c -- 3\n"
     ]
    }
   ],
   "source": [
    "d={}\n",
    "d['b']=2\n",
    "d['a']=1\n",
    "d['c']=3\n",
    "\n",
    "for k,v in d.items():\n",
    "    print(k,\"--\",v)"
   ]
  },
  {
   "cell_type": "code",
   "execution_count": 2,
   "metadata": {},
   "outputs": [
    {
     "name": "stdout",
     "output_type": "stream",
     "text": [
      "b 2\n",
      "a 1\n",
      "c 3\n",
      "after..\n",
      "b 2\n",
      "a 4\n",
      "c 3\n"
     ]
    }
   ],
   "source": [
    "from collections import OrderedDict\n",
    "\n",
    "od = OrderedDict()\n",
    "od['b'] = 2\n",
    "od['a'] = 1\n",
    "od['c'] = 3\n",
    "\n",
    "\n",
    "for k,v in od.items():\n",
    "    print(k,v)\n",
    "    \n",
    "print(\"after..\")\n",
    "\n",
    "od['a']=4\n",
    "\n",
    "for k,v in od.items():\n",
    "    print(k,v)"
   ]
  },
  {
   "cell_type": "markdown",
   "metadata": {},
   "source": [
    "### How to convert list of tuples into dict?"
   ]
  },
  {
   "cell_type": "code",
   "execution_count": 3,
   "metadata": {},
   "outputs": [
    {
     "data": {
      "text/plain": [
       "[None, None]"
      ]
     },
     "execution_count": 3,
     "metadata": {},
     "output_type": "execute_result"
    }
   ],
   "source": [
    "l = [('a',1),('b',2)]\n",
    "d = {}\n",
    "\n",
    "[d.update({k:v}) for k,v in l]   #here it is inserting into k,v into dict so it is not returning any value"
   ]
  },
  {
   "cell_type": "code",
   "execution_count": 4,
   "metadata": {},
   "outputs": [
    {
     "data": {
      "text/plain": [
       "{'a': 1, 'b': 2}"
      ]
     },
     "execution_count": 4,
     "metadata": {},
     "output_type": "execute_result"
    }
   ],
   "source": [
    "d"
   ]
  },
  {
   "cell_type": "markdown",
   "metadata": {},
   "source": [
    "#### second way"
   ]
  },
  {
   "cell_type": "code",
   "execution_count": 5,
   "metadata": {},
   "outputs": [
    {
     "name": "stdout",
     "output_type": "stream",
     "text": [
      "{'a': 1, 'b': 2}\n"
     ]
    }
   ],
   "source": [
    "l = [('a',1),('b',2)]\n",
    "d = {}\n",
    "for k,v in l:\n",
    "    d[k] = v\n",
    "print(d)"
   ]
  },
  {
   "cell_type": "code",
   "execution_count": 6,
   "metadata": {},
   "outputs": [
    {
     "data": {
      "text/plain": [
       "{'a': 1, 'b': 2}"
      ]
     },
     "execution_count": 6,
     "metadata": {},
     "output_type": "execute_result"
    }
   ],
   "source": [
    "l = [('a',1),('b',2)]\n",
    "dict(l)"
   ]
  },
  {
   "cell_type": "code",
   "execution_count": 7,
   "metadata": {},
   "outputs": [
    {
     "data": {
      "text/plain": [
       "{'a': 1, 'b': 2}"
      ]
     },
     "execution_count": 7,
     "metadata": {},
     "output_type": "execute_result"
    }
   ],
   "source": [
    "t = (['a',1],['b',2])\n",
    "dict(t)"
   ]
  },
  {
   "cell_type": "markdown",
   "metadata": {},
   "source": [
    "### Are python programs get compiled?(https://www.geeksforgeeks.org/python-compiled-or-interpreted/)\n",
    "- In various books of python programming, it is mentioned that python language is interpreted. But that is half correct the python program is first compiled and then interpreted. The compilation part is hidden from the programmer thus, many programmers believe that it is an interpreted language. The compilation part is done first when we execute our code and this will generate byte code and internally this byte code gets converted by the python virtual machine(p.v.m) according to the underlying platform(machine+operating system).\n",
    "- Now the question is – if there is any proof that python first compiles the program internally and then run the code via interpreter?\n",
    "- The answer is yes! and note this compiled part is get deleted by the python(as soon as you execute your code) just it does not want programmers to get into complexity."
   ]
  },
  {
   "cell_type": "markdown",
   "metadata": {},
   "source": [
    "### How to generate byte code file in python?(https://www.geeksforgeeks.org/generate-byte-code-file-python/)\n",
    "- py_compile.compile('sample.py'): to compile a single file\n",
    "- py_compile.main(['file1','file2']): to compile multiple files\n",
    "- compileall.compile_dir('directoryname'): It compiles every single python file present in the directory supplied.\n",
    "-  python -m py_compile File1.py to compile a single file through command\n",
    "-  python -m compileall  to compile all files through command"
   ]
  },
  {
   "cell_type": "markdown",
   "metadata": {},
   "source": [
    "### how to compile a python program?\n",
    "- write the below code in notepad++ and save as \"sample.py\" and open cmd\n",
    "- go to that file location\n",
    "- compile program: type \"python -m py_compile sample.py\""
   ]
  },
  {
   "cell_type": "code",
   "execution_count": 8,
   "metadata": {},
   "outputs": [
    {
     "data": {
      "image/png": "[encoded data removed]",
      "text/plain": [
       "<PIL.PngImagePlugin.PngImageFile image mode=RGBA size=492x168 at 0x1F3136C2C50>"
      ]
     },
     "execution_count": 8,
     "metadata": {},
     "output_type": "execute_result"
    }
   ],
   "source": [
    "from PIL import Image\n",
    "Image.open(\"E:/code/zinter/img/compile1.png\")"
   ]
  },
  {
   "cell_type": "markdown",
   "metadata": {},
   "source": [
    "- after compilation now run the compiled program "
   ]
  },
  {
   "cell_type": "code",
   "execution_count": 9,
   "metadata": {},
   "outputs": [
    {
     "data": {
      "image/png": "[encoded data removed]",
      "text/plain": [
       "<PIL.PngImagePlugin.PngImageFile image mode=RGBA size=571x67 at 0x1F3137D8278>"
      ]
     },
     "execution_count": 9,
     "metadata": {},
     "output_type": "execute_result"
    }
   ],
   "source": [
    "from PIL import Image\n",
    "Image.open(\"E:/code/zinter/img/compile2.png\")"
   ]
  },
  {
   "cell_type": "code",
   "execution_count": null,
   "metadata": {},
   "outputs": [],
   "source": []
  },
  {
   "cell_type": "markdown",
   "metadata": {},
   "source": [
    "### Diff between array and list\n",
    "- Array:\n",
    "    - An array is a vector containing homogeneous elements i.e. belonging to the same data type.\n",
    "    - Elements are allocated with contiguous memory locations allowing easy modification, that is, addition, deletion, accessing of elements. \n",
    "    - In Python, we have to use the array module to declare arrays. If the elements of an array belong to different data types, an exception “Incompatible data types” is thrown."
   ]
  },
  {
   "cell_type": "code",
   "execution_count": 10,
   "metadata": {},
   "outputs": [
    {
     "data": {
      "text/plain": [
       "array('i', [1, 2, 3])"
      ]
     },
     "execution_count": 10,
     "metadata": {},
     "output_type": "execute_result"
    }
   ],
   "source": [
    "import array\n",
    "a = array.array('i',[1,2,3])\n",
    "a"
   ]
  },
  {
   "cell_type": "markdown",
   "metadata": {},
   "source": [
    "- list\n",
    "    - A list in Python is a collection of items which can contain elements of multiple data types, which may be either numeric, character logical values, etc. \n",
    "    - It is an ordered collection supporting negative indexing. A list can be created using [] containing data values."
   ]
  },
  {
   "cell_type": "code",
   "execution_count": 11,
   "metadata": {},
   "outputs": [
    {
     "data": {
      "text/plain": [
       "[1, 20.3, (10+2j), 'pawan']"
      ]
     },
     "execution_count": 11,
     "metadata": {},
     "output_type": "execute_result"
    }
   ],
   "source": [
    "l = [1,20.3,10+2j,\"pawan\"]\n",
    "l"
   ]
  },
  {
   "cell_type": "markdown",
   "metadata": {},
   "source": [
    "### Diff between list and tuple\n",
    "- list is mutable\n",
    "- tuple is immutable"
   ]
  },
  {
   "cell_type": "markdown",
   "metadata": {},
   "source": [
    "### In which cases we use tuple?\n",
    "- Using a tuple instead of a list can give the programmer and the interpreter a hint that the data should not be changed.\n",
    "- Tuples are commonly used as the equivalent of a dictionary without keys to store data. ...\n",
    "- Reading data is simpler when tuples are stored inside a list."
   ]
  },
  {
   "cell_type": "markdown",
   "metadata": {},
   "source": [
    "### how to make methods as private?(https://www.geeksforgeeks.org/private-methods-in-python/)\n",
    "- encapsulation: wrapping up off variables and methods in single unit is called encapsulation\n",
    "- Now, there can be some scenarios in which we need to put restrictions on some methods of the class, so that they can neither be accessed outside the class nor by any subclasses. To implement this private methods come into play."
   ]
  },
  {
   "cell_type": "markdown",
   "metadata": {},
   "source": [
    "- private methods: Consider a real life example, a car engine, which is made up of many parts like spark plug, valves, piston, etc. No user use these parts directly, rather they just know how to use the parts which uses them. This is what private methods are used for. It is used to hide the inner functionality of any class from the outside world.\n",
    "- Private methods are those methods that should neither be accessed outside the class nor by any base class. In Python, there is no existence of Private methods that cannot be accessed except inside a class. However, to define a private method prefix the member name with double underscore “__”.`"
   ]
  },
  {
   "cell_type": "code",
   "execution_count": 18,
   "metadata": {},
   "outputs": [
    {
     "name": "stdout",
     "output_type": "stream",
     "text": [
      "public method\n",
      "public method\n"
     ]
    }
   ],
   "source": [
    "class Base:\n",
    "    def fun(self):\n",
    "        print(\"public method\")\n",
    "        \n",
    "    def __fun(self):\n",
    "        print(\"private method\")\n",
    "        \n",
    "class Derived(Base):\n",
    "    def __init__(self):\n",
    "        Base.__init__(self)    #calling constructor of base class\n",
    "        \n",
    "    def call_public(self):\n",
    "        self.fun()\n",
    "   \n",
    "    def call_private(self):\n",
    "        self.__fun()\n",
    "\n",
    "b = Base()\n",
    "b.fun()\n",
    "#b.__fun()       #AttributeError: 'Base' object has no attribute '__fun'\n",
    "\n",
    "d = Derived()\n",
    "d.fun()\n",
    "#d.__fun()        #AttributeError: 'Derived' object has no attribute '__fun'"
   ]
  },
  {
   "cell_type": "markdown",
   "metadata": {},
   "source": [
    "### shall we access these private methods in child class?\n",
    "- The above example shows that private methods of the class can neither be accessed outside the class nor by any base class.\n",
    "- However, private methods can be accessed by calling the private methods via public methods."
   ]
  },
  {
   "cell_type": "code",
   "execution_count": 22,
   "metadata": {},
   "outputs": [
    {
     "name": "stdout",
     "output_type": "stream",
     "text": [
      "public method\n",
      "private method\n",
      "public method\n",
      "private method\n"
     ]
    }
   ],
   "source": [
    "class A:\n",
    "    def fun(self):\n",
    "        print(\"public method\")\n",
    "        \n",
    "    def __fun(self):\n",
    "        print(\"private method\")\n",
    "        \n",
    "    def help(self):                      # Calling private method via another method \n",
    "        self.fun()\n",
    "        self.__fun()\n",
    "        \n",
    "class B(A):\n",
    "    def __init__(self):\n",
    "        A.__init__(self)    #calling constructor of base class\n",
    "        \n",
    "    def call_public_private(self):\n",
    "        self.help()\n",
    "   \n",
    "        \n",
    "a = A()\n",
    "a.help()\n",
    "\n",
    "b = B()\n",
    "b.call_public_private()"
   ]
  },
  {
   "cell_type": "markdown",
   "metadata": {},
   "source": [
    "### shall we override the private methods? No"
   ]
  },
  {
   "cell_type": "code",
   "execution_count": 26,
   "metadata": {},
   "outputs": [],
   "source": [
    "class A:\n",
    "    def fun(self):\n",
    "        print(\"public method\")\n",
    "        \n",
    "    def __fun(self):\n",
    "        print(\"private method\")\n",
    "        \n",
    "class B(A):\n",
    "    def __init__(self):\n",
    "        A.__init__(self)    #calling constructor of base class\n",
    "        \n",
    "    def __fun(self):\n",
    "        print(\"overridded private method\")\n",
    "        \n",
    "b = B()\n",
    "#b.__fun() #AttributeError: 'B' object has no attribute '__fun'"
   ]
  },
  {
   "cell_type": "markdown",
   "metadata": {},
   "source": [
    "### how to print prime numbers without using any loops"
   ]
  },
  {
   "cell_type": "markdown",
   "metadata": {},
   "source": [
    "### Diff between shallow and deep copying\n",
    "- shallow means assiging a variable \n",
    "- deep means using slice and copy() "
   ]
  },
  {
   "cell_type": "code",
   "execution_count": 40,
   "metadata": {},
   "outputs": [
    {
     "name": "stdout",
     "output_type": "stream",
     "text": [
      "1752144065672\n",
      "1752144065672\n",
      "[1, 2, 3, 4] [1, 2, 3, 4]\n",
      "[1, 222, 3, 4] [1, 222, 3, 4]\n"
     ]
    }
   ],
   "source": [
    "x = [1,2,3,4]\n",
    "y = x\n",
    "print(id(x))\n",
    "print(id(y))\n",
    "print(x,y)\n",
    "\n",
    "y[1]=222\n",
    "print(x,y)"
   ]
  },
  {
   "cell_type": "code",
   "execution_count": 42,
   "metadata": {},
   "outputs": [
    {
     "name": "stdout",
     "output_type": "stream",
     "text": [
      "1752144033608\n",
      "1752144121736\n",
      "[1, 2, 3, 4] [1, 2, 3, 4]\n",
      "[1, 2, 3, 4] [1, 222, 3, 4]\n"
     ]
    }
   ],
   "source": [
    "x = [1,2,3,4]\n",
    "y = x[:]\n",
    "print(id(x))\n",
    "print(id(y))\n",
    "print(x, y)\n",
    "\n",
    "y[1]=222\n",
    "print(x, y)"
   ]
  },
  {
   "cell_type": "code",
   "execution_count": 43,
   "metadata": {},
   "outputs": [
    {
     "name": "stdout",
     "output_type": "stream",
     "text": [
      "1752144114568\n",
      "1752144120136\n",
      "[1, 2, 3, 4] [1, 2, 3, 4]\n",
      "[1, 2, 3, 4] [1, 222, 3, 4]\n"
     ]
    }
   ],
   "source": [
    "x = [1,2,3,4]\n",
    "y = x.copy()\n",
    "print(id(x))\n",
    "print(id(y))\n",
    "print(x, y)\n",
    "\n",
    "y[1]=222\n",
    "print(x, y)"
   ]
  },
  {
   "cell_type": "code",
   "execution_count": 57,
   "metadata": {},
   "outputs": [
    {
     "name": "stdout",
     "output_type": "stream",
     "text": [
      "1752144119304\n",
      "1752144089032\n",
      "[1, 2, 3, 4, [5, 6]] [1, 2, 3, 4, [5, 6]]\n",
      "[1, 2, 3, 4, [5, 666]] [1, 2, 333, 4, [5, 666]]\n"
     ]
    }
   ],
   "source": [
    "x = [1,2,3,4,[5,6]]\n",
    "y = x[:]\n",
    "print(id(x))\n",
    "print(id(y))\n",
    "print(x, y)\n",
    "\n",
    "y[2]=333\n",
    "y[4][1]=666\n",
    "print(x, y)"
   ]
  },
  {
   "cell_type": "code",
   "execution_count": 59,
   "metadata": {},
   "outputs": [
    {
     "name": "stdout",
     "output_type": "stream",
     "text": [
      "1752144119176\n",
      "1752144119432\n",
      "[1, 2, 3, 4, [5, 6]] [1, 2, 3, 4, [5, 6]]\n",
      "[1, 2, 3, 4, [5, 6]] [1, 2, 333, 4, [5, 666]]\n"
     ]
    }
   ],
   "source": [
    "from copy import deepcopy\n",
    "\n",
    "x = [1,2,3,4,[5,6]]\n",
    "y = deepcopy(x)\n",
    "print(id(x))\n",
    "print(id(y))\n",
    "print(x, y)\n",
    "\n",
    "y[2]=333\n",
    "y[4][1]=666\n",
    "print(x, y)"
   ]
  },
  {
   "cell_type": "markdown",
   "metadata": {},
   "source": [
    "### what is immutability?"
   ]
  },
  {
   "cell_type": "code",
   "execution_count": 60,
   "metadata": {},
   "outputs": [
    {
     "name": "stdout",
     "output_type": "stream",
     "text": [
      "database\n"
     ]
    }
   ],
   "source": [
    "s1 = \"data\"\n",
    "s2 = \"base\"\n",
    "s1 = s1+s2\n",
    "print(s1)"
   ]
  },
  {
   "cell_type": "code",
   "execution_count": 61,
   "metadata": {},
   "outputs": [
    {
     "data": {
      "image/png": "[encoded data removed]",
      "text/plain": [
       "<PIL.PngImagePlugin.PngImageFile image mode=RGBA size=488x147 at 0x197F3EFC940>"
      ]
     },
     "execution_count": 61,
     "metadata": {},
     "output_type": "execute_result"
    }
   ],
   "source": [
    "from PIL import Image\n",
    "Image.open(\"E:/code/zinter/img/interview1.png\")"
   ]
  },
  {
   "cell_type": "code",
   "execution_count": 28,
   "metadata": {},
   "outputs": [],
   "source": [
    "#d = {[\"cat\",\"dog\"]:\"pavan\",} #TypeError: unhashable type: 'list'"
   ]
  },
  {
   "cell_type": "markdown",
   "metadata": {},
   "source": [
    "https://www.programiz.com/python-programming/examples/prime-number-intervals"
   ]
  },
  {
   "cell_type": "markdown",
   "metadata": {},
   "source": [
    "### program to check given number is prime or not?"
   ]
  },
  {
   "cell_type": "code",
   "execution_count": 4,
   "metadata": {},
   "outputs": [
    {
     "name": "stdout",
     "output_type": "stream",
     "text": [
      "Enter the number:12\n",
      "12 is divisible by 2\n",
      "12 is not a prime number\n"
     ]
    }
   ],
   "source": [
    "num = int(input(\"Enter the number:\"))\n",
    "\n",
    "isDivisible = False\n",
    "\n",
    "i = 2\n",
    "while i < num:\n",
    "    if num % i == 0:\n",
    "        isDivisible = True\n",
    "        print(\"{} is divisible by {}\".format(num,i))\n",
    "        break\n",
    "    i = i+1\n",
    "    \n",
    "if isDivisible:\n",
    "    print(\"{} is not a prime number\".format(num))\n",
    "else:\n",
    "    print(\"{} is prime number\".format(num))"
   ]
  },
  {
   "cell_type": "code",
   "execution_count": 8,
   "metadata": {},
   "outputs": [
    {
     "data": {
      "text/plain": [
       "[2, 3, 5, 7, 11, 13, 17, 19]"
      ]
     },
     "execution_count": 8,
     "metadata": {},
     "output_type": "execute_result"
    }
   ],
   "source": [
    "[x for x in range(2,20) if all(x%y!=0 for y in range(2,x))]"
   ]
  },
  {
   "cell_type": "code",
   "execution_count": 31,
   "metadata": {},
   "outputs": [],
   "source": [
    "for y in range(2,2):\n",
    "    print(y)"
   ]
  },
  {
   "cell_type": "markdown",
   "metadata": {},
   "source": [
    " ### errors\n",
    "- print(10>\"pawan\")         # TypeError: '>' not supported between instances of 'int' and 'str'\n",
    "- x, x/0 and x%0 always raises \"ZeroDivisionError\"\n",
    "- l = [10,20,30]\n",
    "    - l[4]    IndexError: list index out of range"
   ]
  },
  {
   "cell_type": "code",
   "execution_count": 3,
   "metadata": {},
   "outputs": [
    {
     "name": "stdout",
     "output_type": "stream",
     "text": [
      "10\n"
     ]
    }
   ],
   "source": [
    "x = 10\n",
    "print(x)\n",
    "del x\n",
    "#print(x) # After deleting a variable we cannot access that variable otherwise we will get NameError."
   ]
  },
  {
   "cell_type": "markdown",
   "metadata": {},
   "source": [
    "#### Bubble sorting: It is the simplest sorting algorithm that works by repeatedly swapping the adjacent elements if they are in wrong order."
   ]
  },
  {
   "cell_type": "markdown",
   "metadata": {},
   "source": [
    "- https://www.geeksforgeeks.org/bubble-sort/"
   ]
  },
  {
   "cell_type": "code",
   "execution_count": 15,
   "metadata": {},
   "outputs": [],
   "source": [
    "def bubbleSort(arr):\n",
    "    n = len(arr)\n",
    "  \n",
    "    # Traverse through all array elements\n",
    "    for i in range(n):\n",
    "  \n",
    "        # Last i elements are already in place\n",
    "        for j in range(0, n-i-1):\n",
    "  \n",
    "            # traverse the array from 0 to n-i-1\n",
    "            # Swap if the element found is greater\n",
    "            # than the next element\n",
    "            if arr[j] > arr[j+1] :\n",
    "                arr[j], arr[j+1] = arr[j+1], arr[j]\n",
    "    return arr"
   ]
  },
  {
   "cell_type": "code",
   "execution_count": 23,
   "metadata": {},
   "outputs": [],
   "source": [
    "def fun(arr):\n",
    "    n = len(arr)\n",
    "    for j in range(0, n-1):\n",
    "        if arr[j] > arr[j+1] :\n",
    "            arr[j], arr[j+1] = arr[j+1], arr[j]\n",
    "    return arr"
   ]
  },
  {
   "cell_type": "code",
   "execution_count": 24,
   "metadata": {},
   "outputs": [],
   "source": [
    "arr = [64, 34, 25, 12, 22, 11, 90]"
   ]
  },
  {
   "cell_type": "code",
   "execution_count": 25,
   "metadata": {},
   "outputs": [
    {
     "data": {
      "text/plain": [
       "[34, 25, 12, 22, 11, 64, 90]"
      ]
     },
     "execution_count": 25,
     "metadata": {},
     "output_type": "execute_result"
    }
   ],
   "source": [
    "fun(arr)"
   ]
  },
  {
   "cell_type": "code",
   "execution_count": 19,
   "metadata": {},
   "outputs": [
    {
     "data": {
      "text/plain": [
       "[11, 12, 22, 25, 34, 64, 90]"
      ]
     },
     "execution_count": 19,
     "metadata": {},
     "output_type": "execute_result"
    }
   ],
   "source": [
    "bubbleSort(arr)"
   ]
  },
  {
   "cell_type": "markdown",
   "metadata": {},
   "source": [
    "#### count of words\n",
    "- https://www.javatpoint.com/program-to-count-the-total-number-of-words-in-a-string"
   ]
  },
  {
   "cell_type": "code",
   "execution_count": 18,
   "metadata": {},
   "outputs": [
    {
     "name": "stdout",
     "output_type": "stream",
     "text": [
      "Total number of words in the given string: 7\n"
     ]
    }
   ],
   "source": [
    "sentence = \"Beauty lies in the eyes of beholder\";  \n",
    "wordCount = 0;  \n",
    "   \n",
    "for i in range(0, len(sentence)-1):  \n",
    "    #Counts all the spaces present in the string  \n",
    "    #It doesn't include the first space as it won't be considered as a word  \n",
    "    if(sentence[i] == ' ' and sentence[i+1].isalpha() and (i > 0)):  \n",
    "        wordCount = wordCount + 1;  \n",
    "          \n",
    "  \n",
    "#To count the last word present in the string, increment wordCount by 1  \n",
    "wordCount = wordCount + 1;  \n",
    "   \n",
    "#Displays the total number of words present in the given string  \n",
    "print(\"Total number of words in the given string: \" + str(wordCount));  "
   ]
  },
  {
   "cell_type": "markdown",
   "metadata": {},
   "source": [
    "#### to check palindrome"
   ]
  },
  {
   "cell_type": "code",
   "execution_count": 19,
   "metadata": {},
   "outputs": [
    {
     "name": "stdout",
     "output_type": "stream",
     "text": [
      "Enter a number:121\n",
      "The number is palindrome!\n"
     ]
    }
   ],
   "source": [
    "num=int(input(\"Enter a number:\"))\n",
    "temp=num\n",
    "rev=0\n",
    "while(num>0):\n",
    "    dig=num%10\n",
    "    rev=rev*10+dig\n",
    "    num=num//10\n",
    "if(temp==rev):\n",
    "    print(\"The number is palindrome!\")\n",
    "else:\n",
    "    print(\"Not a palindrome!\")"
   ]
  },
  {
   "cell_type": "markdown",
   "metadata": {},
   "source": [
    "#### to check leap year"
   ]
  },
  {
   "cell_type": "code",
   "execution_count": 22,
   "metadata": {},
   "outputs": [
    {
     "name": "stdout",
     "output_type": "stream",
     "text": [
      "2020 is a leap year\n"
     ]
    }
   ],
   "source": [
    "# Python program to check if year is a leap year or not\n",
    "\n",
    "year = 2020\n",
    "\n",
    "# To get year (integer input) from the user\n",
    "# year = int(input(\"Enter a year: \"))\n",
    "\n",
    "if (year % 4) == 0:\n",
    "   if (year % 100) == 0:\n",
    "       if (year % 400) == 0:\n",
    "           print(\"{0} is a leap year\".format(year))\n",
    "       else:\n",
    "           print(\"{0} is not a leap year\".format(year))\n",
    "   else:\n",
    "       print(\"{0} is a leap year\".format(year))\n",
    "else:\n",
    "   print(\"{0} is not a leap year\".format(year))"
   ]
  },
  {
   "cell_type": "markdown",
   "metadata": {},
   "source": [
    "#### Rope puzzle: https://www.youtube.com/watch?v=w_XYpRi7YiU&ab_channel=TECHDOSE"
   ]
  },
  {
   "cell_type": "markdown",
   "metadata": {},
   "source": [
    "##### A man has two ropes of varying thickness (Those two ropes are not identical, they aren’t the same density nor the same length nor the same width). Each rope burns in 60 minutes. He actually wants to measure 45 mins. How can he measure 45 mins using only these two ropes.\n",
    "He can’t cut the one rope in half because the ropes are non-homogeneous and he can’t be sure how long it will burn.\n",
    "- A.)He will burn one of the rope at both the ends and the second rope at one end. After half an hour, the first one burns completely and at this point of time, he will burn the other end of the second rope so now it will take 15 mins more to completely burn. so total time is 30+15 i.e. 45mins."
   ]
  },
  {
   "cell_type": "markdown",
   "metadata": {},
   "source": [
    "##### You have got two candles and each candle will burn for half an hour. You are put in dark room with a match stick. You have to measure exactly 45 minutes and come out of the room.\n",
    "- 1. Burn The First Candle Fully = 30 minutes\n",
    "- 2. After Then , Burn The Second Fom Both The Sides = 15 minutes\n",
    "- 3. Total = 45 (30+15) minutes"
   ]
  },
  {
   "cell_type": "markdown",
   "metadata": {},
   "source": [
    "#### print odd numbers"
   ]
  },
  {
   "cell_type": "code",
   "execution_count": 35,
   "metadata": {},
   "outputs": [
    {
     "data": {
      "text/plain": [
       "[1, 3, 5, 7, 9]"
      ]
     },
     "execution_count": 35,
     "metadata": {},
     "output_type": "execute_result"
    }
   ],
   "source": [
    "[x for x in range(10) if x%2!=0]"
   ]
  },
  {
   "cell_type": "code",
   "execution_count": 44,
   "metadata": {},
   "outputs": [
    {
     "data": {
      "text/plain": [
       "[1, 3, 5, 7, 9]"
      ]
     },
     "execution_count": 44,
     "metadata": {},
     "output_type": "execute_result"
    }
   ],
   "source": [
    "l=list(range(0,11))\n",
    "list(filter(lambda x: (x%2 != 0),l))"
   ]
  },
  {
   "cell_type": "markdown",
   "metadata": {},
   "source": [
    "####  invert mapping of a dictionary."
   ]
  },
  {
   "cell_type": "code",
   "execution_count": 46,
   "metadata": {},
   "outputs": [
    {
     "data": {
      "text/plain": [
       "{'akshat': 101, 'ball': 301}"
      ]
     },
     "execution_count": 46,
     "metadata": {},
     "output_type": "execute_result"
    }
   ],
   "source": [
    "ini_dict = {101: \"akshat\", 201 : \"ball\",301:\"ball\"}\n",
    "inv_dict = {v: k for k, v in ini_dict.items()}\n",
    "inv_dict"
   ]
  },
  {
   "cell_type": "code",
   "execution_count": 47,
   "metadata": {},
   "outputs": [
    {
     "data": {
      "text/plain": [
       "{'akshat': 101, 'ball': 301}"
      ]
     },
     "execution_count": 47,
     "metadata": {},
     "output_type": "execute_result"
    }
   ],
   "source": [
    "{'akshat': 101,'ball':201, 'ball': 301}"
   ]
  },
  {
   "cell_type": "markdown",
   "metadata": {},
   "source": [
    "#### to include repetitive values as keys in invert dictionary"
   ]
  },
  {
   "cell_type": "code",
   "execution_count": 65,
   "metadata": {},
   "outputs": [
    {
     "data": {
      "text/plain": [
       "{3: ['aaa'], 2: ['bbb', 'ccc'], 1: ['ddd']}"
      ]
     },
     "execution_count": 65,
     "metadata": {},
     "output_type": "execute_result"
    }
   ],
   "source": [
    "from collections import Counter, defaultdict\n",
    "\n",
    "def invert_dict(d):\n",
    "    d_inv = defaultdict(list)         # to get duplicate values in a list\n",
    "    for k, v in d.items():\n",
    "        d_inv[v].append(k)\n",
    "    return d_inv\n",
    "\n",
    "text = 'aaa bbb ccc ddd aaa bbb ccc aaa' \n",
    "c = Counter(text.split()) # Counter({'aaa': 3, 'bbb': 2, 'ccc': 2, 'ddd': 1})\n",
    "dict(invert_dict(c)) # {1: ['ddd'], 2: ['bbb', 'ccc'], 3: ['aaa']}    # here for 2 key we have two values in list"
   ]
  },
  {
   "cell_type": "markdown",
   "metadata": {},
   "source": [
    "#### to reverse the dict "
   ]
  },
  {
   "cell_type": "code",
   "execution_count": 66,
   "metadata": {},
   "outputs": [
    {
     "name": "stdout",
     "output_type": "stream",
     "text": [
      "{'gfg': 4, 'is': 2, 'best': 5, 'sdf': 6}\n",
      "['gfg', 'is', 'best', 'sdf']\n",
      "[('gfg', 4), ('is', 2), ('best', 5), ('sdf', 6)]\n",
      "OrderedDict([('sdf', 6), ('best', 5), ('is', 2), ('gfg', 4)])\n"
     ]
    }
   ],
   "source": [
    "from collections import OrderedDict\n",
    "\n",
    "dict1 = {'gfg' : 4, 'is' : 2, 'best' : 5,'sdf':6}\n",
    "print(dict1)\n",
    "print(list(dict1))\n",
    "print(list(dict1.items()))\n",
    "\n",
    "o = OrderedDict(reversed(list(dict1.items())))\n",
    "print(o)"
   ]
  },
  {
   "cell_type": "code",
   "execution_count": 2,
   "metadata": {},
   "outputs": [],
   "source": [
    "def mul(a,b):\n",
    "    return a*b"
   ]
  },
  {
   "cell_type": "code",
   "execution_count": 3,
   "metadata": {},
   "outputs": [
    {
     "data": {
      "text/plain": [
       "50"
      ]
     },
     "execution_count": 3,
     "metadata": {},
     "output_type": "execute_result"
    }
   ],
   "source": [
    "mul(5,10)"
   ]
  },
  {
   "cell_type": "code",
   "execution_count": null,
   "metadata": {},
   "outputs": [],
   "source": []
  }
 ],
 "metadata": {
  "kernelspec": {
   "display_name": "Python 3",
   "language": "python",
   "name": "python3"
  },
  "language_info": {
   "codemirror_mode": {
    "name": "ipython",
    "version": 3
   },
   "file_extension": ".py",
   "mimetype": "text/x-python",
   "name": "python",
   "nbconvert_exporter": "python",
   "pygments_lexer": "ipython3",
   "version": "3.6.5"
  }
 },
 "nbformat": 4,
 "nbformat_minor": 2
}
