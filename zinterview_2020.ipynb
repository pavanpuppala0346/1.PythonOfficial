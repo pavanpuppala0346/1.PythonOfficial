{
 "cells": [
  {
   "cell_type": "markdown",
   "metadata": {},
   "source": [
    "#### Hacker: http://www.hackerrank.com/\n",
    "#### Digital tutor: http://digitaltutor/home\n",
    "#### code chef: www.codechef.com\n",
    "#### code eval: https://www.codeeval.com/"
   ]
  },
  {
   "cell_type": "markdown",
   "metadata": {},
   "source": [
    "#### given an array of integers. rearrange the array such that all odd integers should appear in the left side of the array and even integers appears in the right side. you can't use any other array\n",
    "- (https://www.geeksforgeeks.org/segregate-even-and-odd-numbers/)"
   ]
  },
  {
   "cell_type": "code",
   "execution_count": 48,
   "metadata": {},
   "outputs": [
    {
     "data": {
      "text/plain": [
       "6"
      ]
     },
     "execution_count": 48,
     "metadata": {},
     "output_type": "execute_result"
    }
   ],
   "source": [
    "arr = list({2,5,6,8,1,4})\n",
    "n = len(arr)\n",
    "n"
   ]
  },
  {
   "cell_type": "code",
   "execution_count": 51,
   "metadata": {},
   "outputs": [],
   "source": [
    "def reArrange(arr,n):\n",
    "    j = -1\n",
    "    \n",
    "    for i in range(0,n):        # quick sort method\n",
    "        if (arr[i]%2!=0):\n",
    "            j = j+1\n",
    "            \n",
    "            #temp=arr[i]\n",
    "            arr[i],arr[j] = arr[j],arr[i]\n",
    "            #arr[j] = temp"
   ]
  },
  {
   "cell_type": "code",
   "execution_count": 52,
   "metadata": {},
   "outputs": [],
   "source": [
    "reArrange(arr,n)"
   ]
  },
  {
   "cell_type": "code",
   "execution_count": 53,
   "metadata": {},
   "outputs": [
    {
     "name": "stdout",
     "output_type": "stream",
     "text": [
      "5 1 2 6 8 4 "
     ]
    }
   ],
   "source": [
    "for i in range(0,n):\n",
    "    print(arr[i],end=' ')"
   ]
  },
  {
   "cell_type": "markdown",
   "metadata": {},
   "source": [
    "#### given two sorted arrays of integers. sort them in ascending order(https://www.geeksforgeeks.org/merge-two-sorted-arrays/)"
   ]
  },
  {
   "cell_type": "code",
   "execution_count": 4,
   "metadata": {},
   "outputs": [
    {
     "name": "stdout",
     "output_type": "stream",
     "text": [
      "Array after merging\n",
      "1 2 3 4 5 6 7 8 "
     ]
    }
   ],
   "source": [
    "# Python program to merge\n",
    "# two sorted arrays\n",
    "\n",
    "# Merge arr1[0..n1-1] and\n",
    "# arr2[0..n2-1] into\n",
    "# arr3[0..n1+n2-1]\n",
    "def mergeArrays(arr1, arr2, n1, n2):\n",
    "    arr3 = [None] * (n1 + n2)\n",
    "    i = 0\n",
    "    j = 0\n",
    "    k = 0\n",
    "\n",
    "    # Traverse both array\n",
    "    while i < n1 and j < n2:\n",
    "    # Check if current element of first array is smaller than current element of second array. \n",
    "    # If yes, store first array element and increment first array index. Otherwise do same with second array\n",
    "        if arr1[i] < arr2[j]:\n",
    "            arr3[k] = arr1[i]\n",
    "            k = k + 1\n",
    "            i = i + 1\n",
    "        else:\n",
    "            arr3[k] = arr2[j]\n",
    "            k = k + 1\n",
    "            j = j + 1\n",
    "            \n",
    "    # Store remaining elements of first array\n",
    "    while i < n1:\n",
    "        arr3[k] = arr1[i];\n",
    "        k = k + 1\n",
    "        i = i + 1\n",
    "\n",
    "    # Store remaining elements of second array\n",
    "    while j < n2:\n",
    "        arr3[k] = arr2[j];\n",
    "        k = k + 1\n",
    "        j = j + 1\n",
    "    print(\"Array after merging\")\n",
    "    for i in range(n1 + n2):\n",
    "        print(str(arr3[i]), end = \" \")\n",
    "\n",
    "# Driver code\n",
    "arr1 = [1, 3, 5, 7]\n",
    "n1 = len(arr1)\n",
    "\n",
    "arr2 = [2, 4, 6, 8]\n",
    "n2 = len(arr2)\n",
    "mergeArrays(arr1, arr2, n1, n2);\n"
   ]
  },
  {
   "cell_type": "code",
   "execution_count": 64,
   "metadata": {},
   "outputs": [
    {
     "name": "stdout",
     "output_type": "stream",
     "text": [
      "[1, 3, 5, 7, 2, 4, 6, 8]\n",
      "[1, 2, 3, 4, 5, 6, 7, 8]\n"
     ]
    }
   ],
   "source": [
    "arr1 = [1, 3, 5, 7]\n",
    "arr2 = [2, 4, 6, 8]\n",
    "\n",
    "arr1.extend(arr2)\n",
    "print(arr1)\n",
    "arr1.sort()\n",
    "print(arr1)\n",
    "#list(zip(arr1,arr2))"
   ]
  },
  {
   "cell_type": "markdown",
   "metadata": {},
   "source": [
    "#### given an array of integers find count of pair of numbers whose sum is equal to a specific number passed as parameter\n",
    "- https://www.geeksforgeeks.org/count-pairs-with-given-sum/"
   ]
  },
  {
   "cell_type": "markdown",
   "metadata": {},
   "source": [
    "- Ex: Input  :  arr[] = {1, 5, 7, -1}, sum = 6\n",
    "- Output :  2\n",
    "- Pairs with sum 6 are (1, 5) and (7, -1)"
   ]
  },
  {
   "cell_type": "code",
   "execution_count": 73,
   "metadata": {},
   "outputs": [
    {
     "data": {
      "text/plain": [
       "4"
      ]
     },
     "execution_count": 73,
     "metadata": {},
     "output_type": "execute_result"
    }
   ],
   "source": [
    "arr = [1, 5, 7, -1]\n",
    "sum = 6\n",
    "\n",
    "n = len(arr)\n",
    "n"
   ]
  },
  {
   "cell_type": "code",
   "execution_count": 74,
   "metadata": {},
   "outputs": [],
   "source": [
    "def getPairsCount(arr, n, sum):\n",
    "    \n",
    "    count = 0   # intialize the result\n",
    "    \n",
    "    # consider all possible pairs and check their sum\n",
    "    for i in range(0,n):\n",
    "        for j in range(i+1, n):\n",
    "            if arr[i]+arr[j] == sum:\n",
    "                count = count+1\n",
    "    return count"
   ]
  },
  {
   "cell_type": "code",
   "execution_count": 75,
   "metadata": {},
   "outputs": [
    {
     "name": "stdout",
     "output_type": "stream",
     "text": [
      "Count of pairs is: 2\n"
     ]
    }
   ],
   "source": [
    "print(\"Count of pairs is:\",getPairsCount(arr,n,sum))"
   ]
  },
  {
   "cell_type": "markdown",
   "metadata": {},
   "source": [
    "#### find the dot product of two arrays along with exception handling in case of wrong inputs in python\n",
    "- https://www.geeksforgeeks.org/find-maximum-dot-product-two-arrays-insertion-0s/"
   ]
  },
  {
   "cell_type": "code",
   "execution_count": 9,
   "metadata": {},
   "outputs": [
    {
     "data": {
      "image/png": "[encoded data removed]",
      "text/plain": [
       "<PIL.PngImagePlugin.PngImageFile image mode=RGBA size=843x171 at 0x23BDC0622E8>"
      ]
     },
     "execution_count": 9,
     "metadata": {},
     "output_type": "execute_result"
    }
   ],
   "source": [
    "from PIL import Image\n",
    "Image.open(\"E:/code/1.PythonOfficial/img/inter2.PNG\")"
   ]
  },
  {
   "cell_type": "code",
   "execution_count": 10,
   "metadata": {},
   "outputs": [],
   "source": [
    "# Function compute Maximum Dot Product \n",
    "# and return it\n",
    "def MaxDotProduct(A, B, m, n):\n",
    "      \n",
    "    # Create 2D Matrix that stores dot product\n",
    "    # dp[i+1][j+1] stores product considering \n",
    "    # B[0..i] and A[0...j]. Note that since \n",
    "    # all m > n, we fill values in upper \n",
    "    # diagonal of dp[][]\n",
    "    dp = [[0 for i in range(m + 1)] \n",
    "             for j in range(n + 1)]\n",
    "  \n",
    "    # Traverse through all elements of B[]\n",
    "    for i in range(1, n + 1, 1):\n",
    "          \n",
    "        # Consider all values of A[] with indexes \n",
    "        # greater than or equal to i and compute\n",
    "        # dp[i][j]\n",
    "        for j in range(i, m + 1, 1):\n",
    "              \n",
    "            # Two cases arise\n",
    "            # 1) Include A[j]\n",
    "            # 2) Exclude A[j] (insert 0 in B[]) \n",
    "            dp[i][j] = max((dp[i - 1][j - 1] + \n",
    "                            (A[j - 1] * B[i - 1])) , \n",
    "                            dp[i][j - 1])\n",
    "  \n",
    "    # return Maximum Dot Product\n",
    "    return dp[n][m] "
   ]
  },
  {
   "cell_type": "code",
   "execution_count": 13,
   "metadata": {},
   "outputs": [
    {
     "name": "stdout",
     "output_type": "stream",
     "text": [
      "107\n"
     ]
    }
   ],
   "source": [
    "# Driver Code\n",
    "if __name__ == '__main__':\n",
    "    A = [2, 3, 1, 7, 8]\n",
    "    B = [3, 6, 7]     # B = [0, 3, 0, 6, 7]\n",
    "    m = len(A)\n",
    "    n = len(B)\n",
    "    print(MaxDotProduct(A, B, m, n))"
   ]
  },
  {
   "cell_type": "markdown",
   "metadata": {},
   "source": [
    "#### reorder the numbers in an int array using bubble sort(https://www.geeksforgeeks.org/python-program-for-bubble-sort/)"
   ]
  },
  {
   "cell_type": "code",
   "execution_count": 20,
   "metadata": {},
   "outputs": [
    {
     "name": "stdout",
     "output_type": "stream",
     "text": [
      "Sorted array is:\n",
      "11\n",
      "12\n",
      "22\n",
      "25\n",
      "34\n",
      "64\n",
      "90\n"
     ]
    }
   ],
   "source": [
    "#Bubble Sort is the simplest sorting algorithm that works by repeatedly swapping the adjacent elements if they are in wrong order.\n",
    "\n",
    "# Python program for implementation of Bubble Sort\n",
    "  \n",
    "def bubbleSort(arr):\n",
    "    n = len(arr)\n",
    "  \n",
    "    # Traverse through all array elements\n",
    "    for i in range(n-1):\n",
    "    # range(n) also work but outer loop will repeat one time more than needed.\n",
    "  \n",
    "        # Last i elements are already in place\n",
    "        for j in range(0, n-i-1):\n",
    "  \n",
    "            # traverse the array from 0 to n-i-1\n",
    "            # Swap if the element found is greater\n",
    "            # than the next element\n",
    "            if arr[j] > arr[j+1] :\n",
    "                arr[j], arr[j+1] = arr[j+1], arr[j]\n",
    "  \n",
    "# Driver code to test above\n",
    "arr = [64, 34, 25, 12, 22, 11, 90]\n",
    "  \n",
    "bubbleSort(arr)\n",
    "  \n",
    "print (\"Sorted array is:\")\n",
    "\n",
    "for i in range(len(arr)):\n",
    "    print (\"%d\" %arr[i])\n",
    "   "
   ]
  },
  {
   "cell_type": "markdown",
   "metadata": {},
   "source": [
    "#### find the second smallest number from a given number\n",
    "- (https://www.geeksforgeeks.org/python-largest-smallest-second-largest-second-smallest-list/)"
   ]
  },
  {
   "cell_type": "code",
   "execution_count": 76,
   "metadata": {},
   "outputs": [
    {
     "name": "stdout",
     "output_type": "stream",
     "text": [
      "Largest element is: 45\n",
      "Smallest element is: 2\n",
      "Second Largest element is: 41\n",
      "Second Smallest element is: 4\n"
     ]
    }
   ],
   "source": [
    "# Python prog to illustrate the following in a list\n",
    "def find_len(list1):\n",
    "    length = len(list1)\n",
    "    list1.sort()\n",
    "    print(\"Largest element is:\", list1[length-1])\n",
    "    print(\"Smallest element is:\", list1[0])\n",
    "    print(\"Second Largest element is:\", list1[length-2])\n",
    "    print(\"Second Smallest element is:\", list1[1])"
   ]
  },
  {
   "cell_type": "code",
   "execution_count": 77,
   "metadata": {},
   "outputs": [
    {
     "name": "stdout",
     "output_type": "stream",
     "text": [
      "Largest element is: 45\n",
      "Smallest element is: 2\n",
      "Second Largest element is: 41\n",
      "Second Smallest element is: 4\n"
     ]
    }
   ],
   "source": [
    "# Driver Code\n",
    "list1=[12, 45, 2, 41, 31, 10, 8, 6, 4]\n",
    "Largest = find_len(list1)"
   ]
  },
  {
   "cell_type": "markdown",
   "metadata": {},
   "source": [
    "#### find the smallest number in an array using the log on n in python"
   ]
  },
  {
   "cell_type": "markdown",
   "metadata": {},
   "source": [
    "#### create a program to search a given number in an int array using binary search.\n",
    "- Compare x with the middle element.\n",
    "- If x matches with the middle element, we return the mid index.\n",
    "- Else if x is greater than the mid element, then x can only lie in the right (greater) half subarray after the mid element. - - - Then we apply the algorithm again for the right half.\n",
    "- Else if x is smaller, the target x must lie in the left (lower) half. So we apply the algorithm for the left half."
   ]
  },
  {
   "cell_type": "code",
   "execution_count": 79,
   "metadata": {},
   "outputs": [
    {
     "name": "stdout",
     "output_type": "stream",
     "text": [
      "Element is present at index 3\n"
     ]
    }
   ],
   "source": [
    "# Python 3 program for recursive binary search.\n",
    "# Modifications needed for the older Python 2 are found in comments.\n",
    "\n",
    "# Returns index of x in arr if present, else -1\n",
    "def binary_search(arr, low, high, x):\n",
    "\n",
    "\t# Check base case\n",
    "\tif high >= low:\n",
    "\n",
    "\t\tmid = (high + low) // 2\n",
    "\n",
    "\t\t# If element is present at the middle itself\n",
    "\t\tif arr[mid] == x:\n",
    "\t\t\treturn mid\n",
    "\n",
    "\t\t# If element is smaller than mid, then it can only\n",
    "\t\t# be present in left subarray\n",
    "\t\telif arr[mid] > x:\n",
    "\t\t\treturn binary_search(arr, low, mid - 1, x)\n",
    "\n",
    "\t\t# Else the element can only be present in right subarray\n",
    "\t\telse:\n",
    "\t\t\treturn binary_search(arr, mid + 1, high, x)\n",
    "\n",
    "\telse:\n",
    "\t\t# Element is not present in the array\n",
    "\t\treturn -1\n",
    "\n",
    "# Test array\n",
    "arr = [ 2, 3, 4, 10, 40 ]\n",
    "x = 10\n",
    "\n",
    "# Function call\n",
    "result = binary_search(arr, 0, len(arr)-1, x)\n",
    "\n",
    "if result != -1:\n",
    "\tprint(\"Element is present at index\", str(result))\n",
    "else:\n",
    "\tprint(\"Element is not present in array\")\n"
   ]
  },
  {
   "cell_type": "code",
   "execution_count": 80,
   "metadata": {},
   "outputs": [
    {
     "name": "stdout",
     "output_type": "stream",
     "text": [
      "Element is present at index 3\n"
     ]
    }
   ],
   "source": [
    "# Iterative Binary Search Function\n",
    "# It returns index of x in given array arr if present,\n",
    "# else returns -1\n",
    "def binary_search(arr, x):\n",
    "    low = 0\n",
    "    high = len(arr) - 1\n",
    "    mid = 0\n",
    " \n",
    "    while low <= high:\n",
    " \n",
    "        mid = (high + low) // 2\n",
    " \n",
    "        # If x is greater, ignore left half\n",
    "        if arr[mid] < x:\n",
    "            low = mid + 1\n",
    " \n",
    "        # If x is smaller, ignore right half\n",
    "        elif arr[mid] > x:\n",
    "            high = mid - 1\n",
    " \n",
    "        # means x is present at mid\n",
    "        else:\n",
    "            return mid\n",
    " \n",
    "    # If we reach here, then the element was not present\n",
    "    return -1\n",
    " \n",
    " \n",
    "# Test array\n",
    "arr = [ 2, 3, 4, 10, 40 ]\n",
    "x = 10\n",
    " \n",
    "# Function call\n",
    "result = binary_search(arr, x)\n",
    " \n",
    "if result != -1:\n",
    "    print(\"Element is present at index\", str(result))\n",
    "else:\n",
    "    print(\"Element is not present in array\")"
   ]
  },
  {
   "cell_type": "markdown",
   "metadata": {},
   "source": [
    "#### find the subarray sum from the given array and give the no. of possibilities with the subarray sum is equal to target value\n",
    "- https://www.geeksforgeeks.org/find-subarray-with-given-sum/"
   ]
  },
  {
   "cell_type": "code",
   "execution_count": 82,
   "metadata": {},
   "outputs": [
    {
     "name": "stdout",
     "output_type": "stream",
     "text": [
      "Sum found between\n",
      "indexes  1 and  4\n"
     ]
    },
    {
     "data": {
      "text/plain": [
       "1"
      ]
     },
     "execution_count": 82,
     "metadata": {},
     "output_type": "execute_result"
    }
   ],
   "source": [
    "# Returns true if the\n",
    "# there is a subarray\n",
    "# of arr[] with sum\n",
    "# equal to 'sum'\n",
    "# otherwise returns\n",
    "# false. Also, prints\n",
    "# the result\n",
    "def subArraySum(arr, n, sum_):\n",
    "     \n",
    "    # Pick a starting\n",
    "    # point\n",
    "    for i in range(n):\n",
    "        curr_sum = arr[i]\n",
    "     \n",
    "        # try all subarrays\n",
    "        # starting with 'i'\n",
    "        j = i + 1\n",
    "        while j <= n:\n",
    "         \n",
    "            if curr_sum == sum_:\n",
    "                print (\"Sum found between\")\n",
    "                print(\"indexes % d and % d\"%( i, j-1))\n",
    "                 \n",
    "                return 1\n",
    "                 \n",
    "            if curr_sum > sum_ or j == n:\n",
    "                break\n",
    "             \n",
    "            curr_sum = curr_sum + arr[j]\n",
    "            j += 1\n",
    " \n",
    "    print (\"No subarray found\")\n",
    "    return 0\n",
    " \n",
    "# Driver program\n",
    "arr = [15, 2, 4, 8, 9, 5, 10, 23]\n",
    "n = len(arr)\n",
    "sum_ = 23\n",
    " \n",
    "subArraySum(arr, n, sum_)"
   ]
  },
  {
   "cell_type": "markdown",
   "metadata": {},
   "source": [
    "#### find the each person average from given input in python"
   ]
  },
  {
   "cell_type": "markdown",
   "metadata": {},
   "source": [
    "#### a string array is given containing the addresses of site accessed to each string consiting of IP addresses in the begining follwed by a space and then the complete address write a function that returns a string containing only the ip address which were accessed max number of times\n",
    "- https://www.geeksforgeeks.org/extract-ip-address-from-file-using-python/"
   ]
  },
  {
   "cell_type": "code",
   "execution_count": 83,
   "metadata": {},
   "outputs": [
    {
     "name": "stdout",
     "output_type": "stream",
     "text": [
      "['10.0.1.45', '10.0.1.45', '10.3.54.123']\n"
     ]
    }
   ],
   "source": [
    "# importing the module\n",
    "import re\n",
    " \n",
    "# opening and reading the file\n",
    "#with open('C:/Users/user/Desktop/New Text Document.txt') as fh:\n",
    "   #fstring = fh.readlines()\n",
    "\n",
    "fstring = [\"10.0.1.45-/d/in/intheclass\",\"10.0.1.45-/a/facts/final.../bhgahf\",\"10.3.54.123-/d/xyz/bcc/yes\"]\n",
    "# decalring the regex pattern for IP addresses\n",
    "pattern = re.compile(r'(\\d{1,3}\\.\\d{1,3}\\.\\d{1,3}\\.\\d{1,3})')\n",
    " \n",
    "# initializing the list object\n",
    "lst=[]\n",
    " \n",
    "# extracting the IP addresses\n",
    "for line in fstring:\n",
    "   lst.append(pattern.search(line)[0])\n",
    " \n",
    "# displaying the extracted IP adresses\n",
    "print(lst)"
   ]
  },
  {
   "cell_type": "markdown",
   "metadata": {},
   "source": [
    "#### given a string remove the consecutive character pairs repetitively in python\n",
    "- https://www.tutorialspoint.com/remove-consecutive-duplicates-in-python"
   ]
  },
  {
   "cell_type": "code",
   "execution_count": 86,
   "metadata": {},
   "outputs": [],
   "source": [
    "def solve(s):\n",
    "      seen = s[0]\n",
    "      ans = s[0]\n",
    "      for i in s[1:]:\n",
    "         if i != seen:\n",
    "            ans += i\n",
    "            seen = i\n",
    "      return ans"
   ]
  },
  {
   "cell_type": "code",
   "execution_count": 87,
   "metadata": {},
   "outputs": [
    {
     "data": {
      "text/plain": [
       "'sabs'"
      ]
     },
     "execution_count": 87,
     "metadata": {},
     "output_type": "execute_result"
    }
   ],
   "source": [
    "solve(\"saabbs\")"
   ]
  },
  {
   "cell_type": "code",
   "execution_count": 88,
   "metadata": {},
   "outputs": [
    {
     "data": {
      "text/plain": [
       "'abc'"
      ]
     },
     "execution_count": 88,
     "metadata": {},
     "output_type": "execute_result"
    }
   ],
   "source": [
    "solve(\"aaabbbccc\")"
   ]
  },
  {
   "cell_type": "markdown",
   "metadata": {},
   "source": [
    "#### write a function that returns the first non repeating character in a string\n",
    "- https://www.geeksforgeeks.org/given-a-string-find-its-first-non-repeating-character/"
   ]
  },
  {
   "cell_type": "code",
   "execution_count": 91,
   "metadata": {},
   "outputs": [
    {
     "name": "stdout",
     "output_type": "stream",
     "text": [
      "y\n"
     ]
    }
   ],
   "source": [
    "# Python implementation\n",
    "from collections import Counter\n",
    " \n",
    "# Function which repeats\n",
    "# first Nonrepeating character\n",
    "def printNonrepeated(string):\n",
    " \n",
    "    # Calculating frequencies\n",
    "    # using Counter function\n",
    "    freq = Counter(string)\n",
    " \n",
    "    # Traverse the string\n",
    "    for i in string:\n",
    "        if(freq[i] == 1):\n",
    "            print(i)\n",
    "            break\n",
    " \n",
    " \n",
    "# Driver code\n",
    "string = \"papaya\"\n",
    " \n",
    "# passing string to printNonrepeated function\n",
    "printNonrepeated(string)"
   ]
  },
  {
   "cell_type": "markdown",
   "metadata": {},
   "source": [
    "#### to check whether the given number is palindrome or not in python"
   ]
  },
  {
   "cell_type": "code",
   "execution_count": 94,
   "metadata": {},
   "outputs": [
    {
     "name": "stdout",
     "output_type": "stream",
     "text": [
      "Enter a number:121\n",
      "The number is palindrome!\n"
     ]
    }
   ],
   "source": [
    "num=int(input(\"Enter a number:\"))\n",
    "temp=num\n",
    "rev=0\n",
    "while(num>0):\n",
    "    dig=num%10\n",
    "    rev=rev*10+dig\n",
    "    num=num//10\n",
    "if(temp==rev):\n",
    "    print(\"The number is palindrome!\")\n",
    "else:\n",
    "    print(\"Not a palindrome!\")"
   ]
  },
  {
   "cell_type": "code",
   "execution_count": 93,
   "metadata": {},
   "outputs": [
    {
     "name": "stdout",
     "output_type": "stream",
     "text": [
      "Enter a string:akvka\n",
      "The string is a palindrome\n"
     ]
    }
   ],
   "source": [
    "string=input((\"Enter a string:\"))\n",
    "if(string==string[::-1]):\n",
    "      print(\"The string is a palindrome\")\n",
    "else:\n",
    "      print(\"Not a palindrome\")"
   ]
  },
  {
   "cell_type": "markdown",
   "metadata": {},
   "source": [
    "#### how to check whether a string is pangram or not in python"
   ]
  },
  {
   "cell_type": "code",
   "execution_count": 95,
   "metadata": {},
   "outputs": [
    {
     "name": "stdout",
     "output_type": "stream",
     "text": [
      "Yes\n"
     ]
    }
   ],
   "source": [
    "import string\n",
    "def ispangram(str):\n",
    "   alphabet = \"abcdefghijklmnopqrstuvwxyz\"\n",
    "   for char in alphabet:\n",
    "      if char not in str.lower():\n",
    "         return False\n",
    "   return True\n",
    "# main\n",
    "string = 'The five boxing wizards jump quickly.'\n",
    "if(ispangram(string) == True):\n",
    "   print(\"Yes\")\n",
    "else:\n",
    "   print(\"No\")"
   ]
  },
  {
   "cell_type": "markdown",
   "metadata": {},
   "source": [
    "#### write a program to reverse a string \n",
    "- https://www.geeksforgeeks.org/reverse-string-python-5-different-ways/"
   ]
  },
  {
   "cell_type": "code",
   "execution_count": 96,
   "metadata": {},
   "outputs": [
    {
     "data": {
      "text/plain": [
       "'sbbaas'"
      ]
     },
     "execution_count": 96,
     "metadata": {},
     "output_type": "execute_result"
    }
   ],
   "source": [
    "s = \"saabbs\"\n",
    "s[::-1]"
   ]
  },
  {
   "cell_type": "code",
   "execution_count": 98,
   "metadata": {},
   "outputs": [],
   "source": [
    "def reverse(s):\n",
    "  str = \"\"\n",
    "  for i in s:\n",
    "    str = i + str\n",
    "  return str"
   ]
  },
  {
   "cell_type": "code",
   "execution_count": 99,
   "metadata": {},
   "outputs": [
    {
     "data": {
      "text/plain": [
       "'nawap'"
      ]
     },
     "execution_count": 99,
     "metadata": {},
     "output_type": "execute_result"
    }
   ],
   "source": [
    "reverse(\"pawan\")"
   ]
  },
  {
   "cell_type": "markdown",
   "metadata": {},
   "source": [
    "#### for a string input the function returns output encoded in python"
   ]
  },
  {
   "cell_type": "code",
   "execution_count": 124,
   "metadata": {},
   "outputs": [],
   "source": [
    "def encode(message):\n",
    "        list1=[]\n",
    "        for i in range (0,len(message)):\n",
    "            count = 1\n",
    "            while(i < len(message)-1 and message[i]==message[i+1]):\n",
    "                count+=1\n",
    "                i+=1\n",
    "                list1=str(count)+message[i]\n",
    "            return list1\n",
    "        "
   ]
  },
  {
   "cell_type": "code",
   "execution_count": 125,
   "metadata": {},
   "outputs": [
    {
     "data": {
      "text/plain": [
       "[]"
      ]
     },
     "execution_count": 125,
     "metadata": {},
     "output_type": "execute_result"
    }
   ],
   "source": [
    "encode(\"ABBBBCCCCCCCCAB\")"
   ]
  },
  {
   "cell_type": "code",
   "execution_count": null,
   "metadata": {},
   "outputs": [],
   "source": []
  }
 ],
 "metadata": {
  "kernelspec": {
   "display_name": "Python 3",
   "language": "python",
   "name": "python3"
  },
  "language_info": {
   "codemirror_mode": {
    "name": "ipython",
    "version": 3
   },
   "file_extension": ".py",
   "mimetype": "text/x-python",
   "name": "python",
   "nbconvert_exporter": "python",
   "pygments_lexer": "ipython3",
   "version": "3.6.5"
  }
 },
 "nbformat": 4,
 "nbformat_minor": 2
}
