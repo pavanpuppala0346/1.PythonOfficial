{
 "cells": [
  {
   "cell_type": "markdown",
   "metadata": {},
   "source": [
    "#### bsic unit test cases for the flask"
   ]
  },
  {
   "cell_type": "markdown",
   "metadata": {},
   "source": [
    "test.py"
   ]
  },
  {
   "cell_type": "code",
   "execution_count": 3,
   "metadata": {},
   "outputs": [],
   "source": [
    "import unittest"
   ]
  },
  {
   "cell_type": "code",
   "execution_count": 4,
   "metadata": {},
   "outputs": [
    {
     "name": "stderr",
     "output_type": "stream",
     "text": [
      "E"
     ]
    },
    {
     "name": "stdout",
     "output_type": "stream",
     "text": [
      "some modules are missing No module named 'main'\n"
     ]
    },
    {
     "name": "stderr",
     "output_type": "stream",
     "text": [
      "\n",
      "======================================================================\n",
      "ERROR: C:\\Users\\LENOVO\\AppData\\Roaming\\jupyter\\runtime\\kernel-cd99ffb2-2363-4942-ad18-34edd38a5293 (unittest.loader._FailedTest)\n",
      "----------------------------------------------------------------------\n",
      "AttributeError: module '__main__' has no attribute 'C:\\Users\\LENOVO\\AppData\\Roaming\\jupyter\\runtime\\kernel-cd99ffb2-2363-4942-ad18-34edd38a5293'\n",
      "\n",
      "----------------------------------------------------------------------\n",
      "Ran 1 test in 0.006s\n",
      "\n",
      "FAILED (errors=1)\n"
     ]
    },
    {
     "ename": "SystemExit",
     "evalue": "True",
     "output_type": "error",
     "traceback": [
      "An exception has occurred, use %tb to see the full traceback.\n",
      "\u001b[1;31mSystemExit\u001b[0m\u001b[1;31m:\u001b[0m True\n"
     ]
    },
    {
     "name": "stderr",
     "output_type": "stream",
     "text": [
      "C:\\Users\\LENOVO\\Anaconda3\\lib\\site-packages\\IPython\\core\\interactiveshell.py:2971: UserWarning: To exit: use 'exit', 'quit', or Ctrl-D.\n",
      "  warn(\"To exit: use 'exit', 'quit', or Ctrl-D.\", stacklevel=1)\n"
     ]
    }
   ],
   "source": [
    "try:\n",
    "    from main import app\n",
    "    import unittest\n",
    "except Exception as msg:\n",
    "    print(\"some modules are missing {}\".format(msg))\n",
    "\n",
    "class FlaskTest(unittest.TestCase):\n",
    "\n",
    "    # check for the response 200\n",
    "    def test_index(self):\n",
    "        tester = app.test_client(self)\n",
    "        response = tester.get('/')\n",
    "        statuscode = response.status_code\n",
    "        self.assertEqual(statuscode, 200)\n",
    "\n",
    "    # check if content return is application/json\n",
    "    def test_index_content(self):\n",
    "        tester = app.test_client(self)\n",
    "        response = tester.get('/')\n",
    "        print(response.content_type)\n",
    "        self.assertEqual(response.content_type, 'text/html; charset=utf-8')\n",
    "\n",
    "    def test_index_data(self):\n",
    "        tester = app.test_client(self)\n",
    "        response = tester.get('/')\n",
    "        print(response.data)\n",
    "        #self.assertTrue(b'message' in response.data)\n",
    "if __name__ == \"__main__\":\n",
    "    unittest.main()\n",
    "\n"
   ]
  },
  {
   "cell_type": "code",
   "execution_count": null,
   "metadata": {},
   "outputs": [],
   "source": []
  }
 ],
 "metadata": {
  "kernelspec": {
   "display_name": "Python 3",
   "language": "python",
   "name": "python3"
  },
  "language_info": {
   "codemirror_mode": {
    "name": "ipython",
    "version": 3
   },
   "file_extension": ".py",
   "mimetype": "text/x-python",
   "name": "python",
   "nbconvert_exporter": "python",
   "pygments_lexer": "ipython3",
   "version": "3.6.5"
  }
 },
 "nbformat": 4,
 "nbformat_minor": 2
}
